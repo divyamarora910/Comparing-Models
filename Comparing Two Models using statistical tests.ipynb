{
 "cells": [
  {
   "cell_type": "code",
   "execution_count": 44,
   "metadata": {
    "colab": {},
    "colab_type": "code",
    "collapsed": true,
    "id": "YNKXymB_NDoh"
   },
   "outputs": [],
   "source": [
    "import numpy as np\n",
    "import pandas as pd\n",
    "import researchpy as rp\n",
    "from scipy.stats import t\n",
    "pd.set_option('display.max_columns', 30) # set so can see all columns of the DataFrame"
   ]
  },
  {
   "cell_type": "markdown",
   "metadata": {},
   "source": [
    "### Hypothesis Tesing\n",
    "We will look at two hypothesis test, each with $\\alpha = .025$:  \n",
    "\n",
    "\n",
    "1. Is the accurracy of SMOTE and Class_Weight are same?\n",
    "\n",
    "2. Is the accurracy of SMOTE and Class_Weight are Different?\n",
    "\n",
    "\n",
    "Aside: This $\\alpha$ level is equivalent to $\\alpha = .05$ and then applying the [Bonferonni correction](https://en.wikipedia.org/wiki/Bonferroni_correction)."
   ]
  },
  {
   "cell_type": "code",
   "execution_count": 5,
   "metadata": {
    "colab": {},
    "colab_type": "code",
    "collapsed": true,
    "id": "mBcxVw04NFW9"
   },
   "outputs": [],
   "source": [
    "# Import the data\n",
    "df = pd.read_csv(\"./testing_ouptut.csv\",low_memory=False) "
   ]
  },
  {
   "cell_type": "code",
   "execution_count": 50,
   "metadata": {
    "collapsed": true
   },
   "outputs": [],
   "source": [
    "df['Pred_50_Match']=0\n",
    "df['Pred_SMOTE_50_Match']=0\n",
    "df.loc[df['Pred_50']==df['OUTPUT'],'Pred_50_Match']=1\n",
    "df.loc[df['Pred_Smote_50']==df['OUTPUT'],'Pred_SMOTE_50_Match']=1"
   ]
  },
  {
   "cell_type": "code",
   "execution_count": 51,
   "metadata": {
    "collapsed": false
   },
   "outputs": [
    {
     "data": {
      "text/html": [
       "<div>\n",
       "<style scoped>\n",
       "    .dataframe tbody tr th:only-of-type {\n",
       "        vertical-align: middle;\n",
       "    }\n",
       "\n",
       "    .dataframe tbody tr th {\n",
       "        vertical-align: top;\n",
       "    }\n",
       "\n",
       "    .dataframe thead th {\n",
       "        text-align: right;\n",
       "    }\n",
       "</style>\n",
       "<table border=\"1\" class=\"dataframe\">\n",
       "  <thead>\n",
       "    <tr style=\"text-align: right;\">\n",
       "      <th></th>\n",
       "      <th>Variable</th>\n",
       "      <th>Outcome</th>\n",
       "      <th>Count</th>\n",
       "      <th>Percent</th>\n",
       "    </tr>\n",
       "  </thead>\n",
       "  <tbody>\n",
       "    <tr>\n",
       "      <td>0</td>\n",
       "      <td>Pred_50_Match</td>\n",
       "      <td>1</td>\n",
       "      <td>266962</td>\n",
       "      <td>99.10</td>\n",
       "    </tr>\n",
       "    <tr>\n",
       "      <td>1</td>\n",
       "      <td></td>\n",
       "      <td>0</td>\n",
       "      <td>2412</td>\n",
       "      <td>0.90</td>\n",
       "    </tr>\n",
       "    <tr>\n",
       "      <td>2</td>\n",
       "      <td>Pred_SMOTE_50_Match</td>\n",
       "      <td>1</td>\n",
       "      <td>260941</td>\n",
       "      <td>96.87</td>\n",
       "    </tr>\n",
       "    <tr>\n",
       "      <td>3</td>\n",
       "      <td></td>\n",
       "      <td>0</td>\n",
       "      <td>8433</td>\n",
       "      <td>3.13</td>\n",
       "    </tr>\n",
       "  </tbody>\n",
       "</table>\n",
       "</div>"
      ],
      "text/plain": [
       "              Variable  Outcome   Count  Percent\n",
       "0        Pred_50_Match        1  266962    99.10\n",
       "1                             0    2412     0.90\n",
       "2  Pred_SMOTE_50_Match        1  260941    96.87\n",
       "3                             0    8433     3.13"
      ]
     },
     "execution_count": 51,
     "metadata": {},
     "output_type": "execute_result"
    }
   ],
   "source": [
    "rp.summary_cat(df[['Pred_50_Match', 'Pred_SMOTE_50_Match']])"
   ]
  },
  {
   "cell_type": "code",
   "execution_count": 59,
   "metadata": {
    "collapsed": true
   },
   "outputs": [],
   "source": [
    "invalid=df[df['OUTPUT']==0]"
   ]
  },
  {
   "cell_type": "markdown",
   "metadata": {},
   "source": [
    "### McNemar Test\n",
    "McNemar's Test is a statistical test used on paired nominal data.\n",
    "\n",
    "\n",
    "It is applied to 2x2 contigency tables with a dichotomous trail, with matched pairs of subjects, to determine whether the row and column marginal frequencies are equal (mariginal homogeneity)"
   ]
  },
  {
   "cell_type": "code",
   "execution_count": 62,
   "metadata": {
    "collapsed": true
   },
   "outputs": [],
   "source": [
    "table, res = rp.crosstab(invalid['Pred_50_Match'], invalid['Pred_SMOTE_50_Match'], test= 'mcnemar')"
   ]
  },
  {
   "cell_type": "code",
   "execution_count": 63,
   "metadata": {
    "collapsed": false
   },
   "outputs": [
    {
     "data": {
      "text/html": [
       "<div>\n",
       "<style scoped>\n",
       "    .dataframe tbody tr th:only-of-type {\n",
       "        vertical-align: middle;\n",
       "    }\n",
       "\n",
       "    .dataframe tbody tr th {\n",
       "        vertical-align: top;\n",
       "    }\n",
       "\n",
       "    .dataframe thead tr th {\n",
       "        text-align: left;\n",
       "    }\n",
       "\n",
       "    .dataframe thead tr:last-of-type th {\n",
       "        text-align: right;\n",
       "    }\n",
       "</style>\n",
       "<table border=\"1\" class=\"dataframe\">\n",
       "  <thead>\n",
       "    <tr>\n",
       "      <th></th>\n",
       "      <th colspan=\"3\" halign=\"left\">Pred_SMOTE_50_Match</th>\n",
       "    </tr>\n",
       "    <tr>\n",
       "      <th></th>\n",
       "      <th>0</th>\n",
       "      <th>1</th>\n",
       "      <th>All</th>\n",
       "    </tr>\n",
       "    <tr>\n",
       "      <th>Pred_50_Match</th>\n",
       "      <th></th>\n",
       "      <th></th>\n",
       "      <th></th>\n",
       "    </tr>\n",
       "  </thead>\n",
       "  <tbody>\n",
       "    <tr>\n",
       "      <td>0</td>\n",
       "      <td>78</td>\n",
       "      <td>6</td>\n",
       "      <td>84</td>\n",
       "    </tr>\n",
       "    <tr>\n",
       "      <td>1</td>\n",
       "      <td>59</td>\n",
       "      <td>295</td>\n",
       "      <td>354</td>\n",
       "    </tr>\n",
       "    <tr>\n",
       "      <td>All</td>\n",
       "      <td>137</td>\n",
       "      <td>301</td>\n",
       "      <td>438</td>\n",
       "    </tr>\n",
       "  </tbody>\n",
       "</table>\n",
       "</div>"
      ],
      "text/plain": [
       "              Pred_SMOTE_50_Match          \n",
       "                                0    1  All\n",
       "Pred_50_Match                              \n",
       "0                              78    6   84\n",
       "1                              59  295  354\n",
       "All                           137  301  438"
      ]
     },
     "execution_count": 63,
     "metadata": {},
     "output_type": "execute_result"
    }
   ],
   "source": [
    "table"
   ]
  },
  {
   "cell_type": "code",
   "execution_count": 64,
   "metadata": {
    "collapsed": false
   },
   "outputs": [
    {
     "data": {
      "text/html": [
       "<div>\n",
       "<style scoped>\n",
       "    .dataframe tbody tr th:only-of-type {\n",
       "        vertical-align: middle;\n",
       "    }\n",
       "\n",
       "    .dataframe tbody tr th {\n",
       "        vertical-align: top;\n",
       "    }\n",
       "\n",
       "    .dataframe thead th {\n",
       "        text-align: right;\n",
       "    }\n",
       "</style>\n",
       "<table border=\"1\" class=\"dataframe\">\n",
       "  <thead>\n",
       "    <tr style=\"text-align: right;\">\n",
       "      <th></th>\n",
       "      <th>McNemar</th>\n",
       "      <th>results</th>\n",
       "    </tr>\n",
       "  </thead>\n",
       "  <tbody>\n",
       "    <tr>\n",
       "      <td>0</td>\n",
       "      <td>McNemar's Chi-square ( 1.0) =</td>\n",
       "      <td>43.2154</td>\n",
       "    </tr>\n",
       "    <tr>\n",
       "      <td>1</td>\n",
       "      <td>p-value =</td>\n",
       "      <td>0.0000</td>\n",
       "    </tr>\n",
       "    <tr>\n",
       "      <td>2</td>\n",
       "      <td>Cramer's phi =</td>\n",
       "      <td>0.3141</td>\n",
       "    </tr>\n",
       "  </tbody>\n",
       "</table>\n",
       "</div>"
      ],
      "text/plain": [
       "                          McNemar  results\n",
       "0  McNemar's Chi-square ( 1.0) =   43.2154\n",
       "1                      p-value =    0.0000\n",
       "2                 Cramer's phi =    0.3141"
      ]
     },
     "execution_count": 64,
     "metadata": {},
     "output_type": "execute_result"
    }
   ],
   "source": [
    "res"
   ]
  },
  {
   "cell_type": "code",
   "execution_count": null,
   "metadata": {
    "collapsed": true
   },
   "outputs": [],
   "source": []
  },
  {
   "cell_type": "code",
   "execution_count": null,
   "metadata": {
    "collapsed": true
   },
   "outputs": [],
   "source": []
  },
  {
   "cell_type": "code",
   "execution_count": null,
   "metadata": {
    "collapsed": true
   },
   "outputs": [],
   "source": []
  },
  {
   "cell_type": "code",
   "execution_count": 52,
   "metadata": {
    "collapsed": true
   },
   "outputs": [],
   "source": [
    "table, res = rp.crosstab(df['Pred_50_Match'], df['Pred_SMOTE_50_Match'], test= 'mcnemar')"
   ]
  },
  {
   "cell_type": "code",
   "execution_count": 57,
   "metadata": {
    "collapsed": false
   },
   "outputs": [
    {
     "data": {
      "text/html": [
       "<div>\n",
       "<style scoped>\n",
       "    .dataframe tbody tr th:only-of-type {\n",
       "        vertical-align: middle;\n",
       "    }\n",
       "\n",
       "    .dataframe tbody tr th {\n",
       "        vertical-align: top;\n",
       "    }\n",
       "\n",
       "    .dataframe thead tr th {\n",
       "        text-align: left;\n",
       "    }\n",
       "\n",
       "    .dataframe thead tr:last-of-type th {\n",
       "        text-align: right;\n",
       "    }\n",
       "</style>\n",
       "<table border=\"1\" class=\"dataframe\">\n",
       "  <thead>\n",
       "    <tr>\n",
       "      <th></th>\n",
       "      <th colspan=\"3\" halign=\"left\">Pred_SMOTE_50_Match</th>\n",
       "    </tr>\n",
       "    <tr>\n",
       "      <th></th>\n",
       "      <th>0</th>\n",
       "      <th>1</th>\n",
       "      <th>All</th>\n",
       "    </tr>\n",
       "    <tr>\n",
       "      <th>Pred_50_Match</th>\n",
       "      <th></th>\n",
       "      <th></th>\n",
       "      <th></th>\n",
       "    </tr>\n",
       "  </thead>\n",
       "  <tbody>\n",
       "    <tr>\n",
       "      <td>0</td>\n",
       "      <td>2334</td>\n",
       "      <td>78</td>\n",
       "      <td>2412</td>\n",
       "    </tr>\n",
       "    <tr>\n",
       "      <td>1</td>\n",
       "      <td>6099</td>\n",
       "      <td>260863</td>\n",
       "      <td>266962</td>\n",
       "    </tr>\n",
       "    <tr>\n",
       "      <td>All</td>\n",
       "      <td>8433</td>\n",
       "      <td>260941</td>\n",
       "      <td>269374</td>\n",
       "    </tr>\n",
       "  </tbody>\n",
       "</table>\n",
       "</div>"
      ],
      "text/plain": [
       "              Pred_SMOTE_50_Match                \n",
       "                                0       1     All\n",
       "Pred_50_Match                                    \n",
       "0                            2334      78    2412\n",
       "1                            6099  260863  266962\n",
       "All                          8433  260941  269374"
      ]
     },
     "execution_count": 57,
     "metadata": {},
     "output_type": "execute_result"
    }
   ],
   "source": [
    "table"
   ]
  },
  {
   "cell_type": "code",
   "execution_count": 54,
   "metadata": {
    "collapsed": false
   },
   "outputs": [
    {
     "data": {
      "text/html": [
       "<div>\n",
       "<style scoped>\n",
       "    .dataframe tbody tr th:only-of-type {\n",
       "        vertical-align: middle;\n",
       "    }\n",
       "\n",
       "    .dataframe tbody tr th {\n",
       "        vertical-align: top;\n",
       "    }\n",
       "\n",
       "    .dataframe thead th {\n",
       "        text-align: right;\n",
       "    }\n",
       "</style>\n",
       "<table border=\"1\" class=\"dataframe\">\n",
       "  <thead>\n",
       "    <tr style=\"text-align: right;\">\n",
       "      <th></th>\n",
       "      <th>McNemar</th>\n",
       "      <th>results</th>\n",
       "    </tr>\n",
       "  </thead>\n",
       "  <tbody>\n",
       "    <tr>\n",
       "      <td>0</td>\n",
       "      <td>McNemar's Chi-square ( 1.0) =</td>\n",
       "      <td>5868.9398</td>\n",
       "    </tr>\n",
       "    <tr>\n",
       "      <td>1</td>\n",
       "      <td>p-value =</td>\n",
       "      <td>0.0000</td>\n",
       "    </tr>\n",
       "    <tr>\n",
       "      <td>2</td>\n",
       "      <td>Cramer's phi =</td>\n",
       "      <td>0.1476</td>\n",
       "    </tr>\n",
       "  </tbody>\n",
       "</table>\n",
       "</div>"
      ],
      "text/plain": [
       "                          McNemar    results\n",
       "0  McNemar's Chi-square ( 1.0) =   5868.9398\n",
       "1                      p-value =      0.0000\n",
       "2                 Cramer's phi =      0.1476"
      ]
     },
     "execution_count": 54,
     "metadata": {},
     "output_type": "execute_result"
    }
   ],
   "source": [
    "res"
   ]
  },
  {
   "cell_type": "markdown",
   "metadata": {},
   "source": [
    "Cramer's V varies between 0 and 1. Close to 0 it shows little association between variables. Close to 1, it indicates a strong association."
   ]
  },
  {
   "cell_type": "code",
   "execution_count": 58,
   "metadata": {
    "collapsed": false
   },
   "outputs": [
    {
     "data": {
      "text/plain": [
       "2.178576"
      ]
     },
     "execution_count": 58,
     "metadata": {},
     "output_type": "execute_result"
    }
   ],
   "source": [
    "100*(0.1476**2)"
   ]
  },
  {
   "cell_type": "code",
   "execution_count": 55,
   "metadata": {
    "collapsed": false
   },
   "outputs": [
    {
     "data": {
      "text/html": [
       "<div>\n",
       "<style scoped>\n",
       "    .dataframe tbody tr th:only-of-type {\n",
       "        vertical-align: middle;\n",
       "    }\n",
       "\n",
       "    .dataframe tbody tr th {\n",
       "        vertical-align: top;\n",
       "    }\n",
       "\n",
       "    .dataframe thead tr th {\n",
       "        text-align: left;\n",
       "    }\n",
       "\n",
       "    .dataframe thead tr:last-of-type th {\n",
       "        text-align: right;\n",
       "    }\n",
       "</style>\n",
       "<table border=\"1\" class=\"dataframe\">\n",
       "  <thead>\n",
       "    <tr>\n",
       "      <th></th>\n",
       "      <th colspan=\"3\" halign=\"left\">Pred_SMOTE_50_Match</th>\n",
       "    </tr>\n",
       "    <tr>\n",
       "      <th></th>\n",
       "      <th>0</th>\n",
       "      <th>1</th>\n",
       "      <th>All</th>\n",
       "    </tr>\n",
       "    <tr>\n",
       "      <th>Pred_50_Match</th>\n",
       "      <th></th>\n",
       "      <th></th>\n",
       "      <th></th>\n",
       "    </tr>\n",
       "  </thead>\n",
       "  <tbody>\n",
       "    <tr>\n",
       "      <td>0</td>\n",
       "      <td>2334</td>\n",
       "      <td>78</td>\n",
       "      <td>2412</td>\n",
       "    </tr>\n",
       "    <tr>\n",
       "      <td>1</td>\n",
       "      <td>6099</td>\n",
       "      <td>260863</td>\n",
       "      <td>266962</td>\n",
       "    </tr>\n",
       "    <tr>\n",
       "      <td>All</td>\n",
       "      <td>8433</td>\n",
       "      <td>260941</td>\n",
       "      <td>269374</td>\n",
       "    </tr>\n",
       "  </tbody>\n",
       "</table>\n",
       "</div>"
      ],
      "text/plain": [
       "              Pred_SMOTE_50_Match                \n",
       "                                0       1     All\n",
       "Pred_50_Match                                    \n",
       "0                            2334      78    2412\n",
       "1                            6099  260863  266962\n",
       "All                          8433  260941  269374"
      ]
     },
     "execution_count": 55,
     "metadata": {},
     "output_type": "execute_result"
    }
   ],
   "source": [
    "table"
   ]
  },
  {
   "cell_type": "code",
   "execution_count": 6,
   "metadata": {
    "colab": {},
    "colab_type": "code",
    "collapsed": false,
    "id": "TYe8b7MoNDop"
   },
   "outputs": [
    {
     "data": {
      "text/html": [
       "<div>\n",
       "<style scoped>\n",
       "    .dataframe tbody tr th:only-of-type {\n",
       "        vertical-align: middle;\n",
       "    }\n",
       "\n",
       "    .dataframe tbody tr th {\n",
       "        vertical-align: top;\n",
       "    }\n",
       "\n",
       "    .dataframe thead th {\n",
       "        text-align: right;\n",
       "    }\n",
       "</style>\n",
       "<table border=\"1\" class=\"dataframe\">\n",
       "  <thead>\n",
       "    <tr style=\"text-align: right;\">\n",
       "      <th></th>\n",
       "      <th>COMPANY_CODE</th>\n",
       "      <th>DOCUMENT_NUMBER</th>\n",
       "      <th>FISCAL_YEAR</th>\n",
       "      <th>NO_LINE_ITEM_ACC</th>\n",
       "      <th>CLEARING_DATE</th>\n",
       "      <th>CLEAR_DOC_NO</th>\n",
       "      <th>ASSIGNMENT_ID</th>\n",
       "      <th>POSTING_DATE</th>\n",
       "      <th>DOCUMENT_DATE</th>\n",
       "      <th>DOCUMENT_CREATION_DATE</th>\n",
       "      <th>AMOUNT_CURRENCY</th>\n",
       "      <th>REFERENCE_DOC_NO</th>\n",
       "      <th>DOCUMENT_TYPE</th>\n",
       "      <th>FISCAL_PERIOD</th>\n",
       "      <th>POSTING_KEY</th>\n",
       "      <th>...</th>\n",
       "      <th>name_category_mean_encoded</th>\n",
       "      <th>delivery_date_is_zero</th>\n",
       "      <th>AMOUNT_DOC_CURR_Log</th>\n",
       "      <th>Quarter_mean_encoded</th>\n",
       "      <th>FISCAL_PERIOD_mean_encoded</th>\n",
       "      <th>AMOUNT_TYPE_mean_encoded</th>\n",
       "      <th>Diff_Type_mean_encoded</th>\n",
       "      <th>CUSTOMER_NUMBER_grouped</th>\n",
       "      <th>temp1</th>\n",
       "      <th>CUSTOMER_NUMBER_grouped_name_category_history</th>\n",
       "      <th>Pred_Smote_50</th>\n",
       "      <th>Pred_Smote_90</th>\n",
       "      <th>Pred_50</th>\n",
       "      <th>Pred_90</th>\n",
       "      <th>Pred_Prob</th>\n",
       "    </tr>\n",
       "  </thead>\n",
       "  <tbody>\n",
       "    <tr>\n",
       "      <td>0</td>\n",
       "      <td>4600</td>\n",
       "      <td>108235837</td>\n",
       "      <td>2019.0</td>\n",
       "      <td>1</td>\n",
       "      <td>2019-09-19</td>\n",
       "      <td>108235837</td>\n",
       "      <td>NaN</td>\n",
       "      <td>2019-09-19</td>\n",
       "      <td>2019-09-19</td>\n",
       "      <td>2019-09-19</td>\n",
       "      <td>USD</td>\n",
       "      <td>NaN</td>\n",
       "      <td>AB</td>\n",
       "      <td>9.0</td>\n",
       "      <td>7.0</td>\n",
       "      <td>...</td>\n",
       "      <td>0.995312</td>\n",
       "      <td>1</td>\n",
       "      <td>6.971293</td>\n",
       "      <td>0.996127</td>\n",
       "      <td>0.994984</td>\n",
       "      <td>0.995965</td>\n",
       "      <td>0.995479</td>\n",
       "      <td>others</td>\n",
       "      <td>others</td>\n",
       "      <td>0.000772</td>\n",
       "      <td>1</td>\n",
       "      <td>1</td>\n",
       "      <td>1</td>\n",
       "      <td>1</td>\n",
       "      <td>0.999487</td>\n",
       "    </tr>\n",
       "    <tr>\n",
       "      <td>1</td>\n",
       "      <td>4600</td>\n",
       "      <td>108235838</td>\n",
       "      <td>2019.0</td>\n",
       "      <td>1</td>\n",
       "      <td>2019-09-19</td>\n",
       "      <td>108235838</td>\n",
       "      <td>NaN</td>\n",
       "      <td>2019-09-19</td>\n",
       "      <td>2019-09-19</td>\n",
       "      <td>2019-09-19</td>\n",
       "      <td>USD</td>\n",
       "      <td>NaN</td>\n",
       "      <td>AB</td>\n",
       "      <td>9.0</td>\n",
       "      <td>7.0</td>\n",
       "      <td>...</td>\n",
       "      <td>0.998481</td>\n",
       "      <td>1</td>\n",
       "      <td>6.775480</td>\n",
       "      <td>0.996127</td>\n",
       "      <td>0.994984</td>\n",
       "      <td>0.995965</td>\n",
       "      <td>0.995479</td>\n",
       "      <td>others</td>\n",
       "      <td>food</td>\n",
       "      <td>0.001341</td>\n",
       "      <td>1</td>\n",
       "      <td>1</td>\n",
       "      <td>1</td>\n",
       "      <td>1</td>\n",
       "      <td>0.999515</td>\n",
       "    </tr>\n",
       "    <tr>\n",
       "      <td>2</td>\n",
       "      <td>4600</td>\n",
       "      <td>108235839</td>\n",
       "      <td>2019.0</td>\n",
       "      <td>1</td>\n",
       "      <td>2019-09-19</td>\n",
       "      <td>108235839</td>\n",
       "      <td>NaN</td>\n",
       "      <td>2019-09-19</td>\n",
       "      <td>2019-09-19</td>\n",
       "      <td>2019-09-19</td>\n",
       "      <td>USD</td>\n",
       "      <td>NaN</td>\n",
       "      <td>AB</td>\n",
       "      <td>9.0</td>\n",
       "      <td>7.0</td>\n",
       "      <td>...</td>\n",
       "      <td>0.998481</td>\n",
       "      <td>1</td>\n",
       "      <td>5.543614</td>\n",
       "      <td>0.996127</td>\n",
       "      <td>0.994984</td>\n",
       "      <td>0.992665</td>\n",
       "      <td>0.995479</td>\n",
       "      <td>others</td>\n",
       "      <td>food</td>\n",
       "      <td>0.001341</td>\n",
       "      <td>1</td>\n",
       "      <td>1</td>\n",
       "      <td>1</td>\n",
       "      <td>1</td>\n",
       "      <td>0.999497</td>\n",
       "    </tr>\n",
       "    <tr>\n",
       "      <td>3</td>\n",
       "      <td>4600</td>\n",
       "      <td>108235840</td>\n",
       "      <td>2019.0</td>\n",
       "      <td>1</td>\n",
       "      <td>2019-09-19</td>\n",
       "      <td>108235840</td>\n",
       "      <td>NaN</td>\n",
       "      <td>2019-09-19</td>\n",
       "      <td>2019-09-19</td>\n",
       "      <td>2019-09-19</td>\n",
       "      <td>USD</td>\n",
       "      <td>NaN</td>\n",
       "      <td>AB</td>\n",
       "      <td>9.0</td>\n",
       "      <td>7.0</td>\n",
       "      <td>...</td>\n",
       "      <td>0.995312</td>\n",
       "      <td>1</td>\n",
       "      <td>6.604905</td>\n",
       "      <td>0.996127</td>\n",
       "      <td>0.994984</td>\n",
       "      <td>0.995965</td>\n",
       "      <td>0.995479</td>\n",
       "      <td>others</td>\n",
       "      <td>others</td>\n",
       "      <td>0.000772</td>\n",
       "      <td>1</td>\n",
       "      <td>1</td>\n",
       "      <td>1</td>\n",
       "      <td>1</td>\n",
       "      <td>0.999487</td>\n",
       "    </tr>\n",
       "    <tr>\n",
       "      <td>4</td>\n",
       "      <td>4600</td>\n",
       "      <td>108235841</td>\n",
       "      <td>2019.0</td>\n",
       "      <td>1</td>\n",
       "      <td>2019-09-19</td>\n",
       "      <td>108235841</td>\n",
       "      <td>NaN</td>\n",
       "      <td>2019-09-19</td>\n",
       "      <td>2019-09-19</td>\n",
       "      <td>2019-09-19</td>\n",
       "      <td>USD</td>\n",
       "      <td>NaN</td>\n",
       "      <td>AB</td>\n",
       "      <td>9.0</td>\n",
       "      <td>7.0</td>\n",
       "      <td>...</td>\n",
       "      <td>0.998481</td>\n",
       "      <td>1</td>\n",
       "      <td>6.608837</td>\n",
       "      <td>0.996127</td>\n",
       "      <td>0.994984</td>\n",
       "      <td>0.995965</td>\n",
       "      <td>0.995479</td>\n",
       "      <td>others</td>\n",
       "      <td>food</td>\n",
       "      <td>0.001341</td>\n",
       "      <td>1</td>\n",
       "      <td>1</td>\n",
       "      <td>1</td>\n",
       "      <td>1</td>\n",
       "      <td>0.999487</td>\n",
       "    </tr>\n",
       "    <tr>\n",
       "      <td>...</td>\n",
       "      <td>...</td>\n",
       "      <td>...</td>\n",
       "      <td>...</td>\n",
       "      <td>...</td>\n",
       "      <td>...</td>\n",
       "      <td>...</td>\n",
       "      <td>...</td>\n",
       "      <td>...</td>\n",
       "      <td>...</td>\n",
       "      <td>...</td>\n",
       "      <td>...</td>\n",
       "      <td>...</td>\n",
       "      <td>...</td>\n",
       "      <td>...</td>\n",
       "      <td>...</td>\n",
       "      <td>...</td>\n",
       "      <td>...</td>\n",
       "      <td>...</td>\n",
       "      <td>...</td>\n",
       "      <td>...</td>\n",
       "      <td>...</td>\n",
       "      <td>...</td>\n",
       "      <td>...</td>\n",
       "      <td>...</td>\n",
       "      <td>...</td>\n",
       "      <td>...</td>\n",
       "      <td>...</td>\n",
       "      <td>...</td>\n",
       "      <td>...</td>\n",
       "      <td>...</td>\n",
       "      <td>...</td>\n",
       "    </tr>\n",
       "    <tr>\n",
       "      <td>269369</td>\n",
       "      <td>5300</td>\n",
       "      <td>1600051043</td>\n",
       "      <td>2019.0</td>\n",
       "      <td>21</td>\n",
       "      <td>2019-08-30</td>\n",
       "      <td>1600051043</td>\n",
       "      <td>NaN</td>\n",
       "      <td>2019-08-30</td>\n",
       "      <td>2019-08-30</td>\n",
       "      <td>2019-09-18</td>\n",
       "      <td>CAD</td>\n",
       "      <td>534664</td>\n",
       "      <td>DA</td>\n",
       "      <td>9.0</td>\n",
       "      <td>5.0</td>\n",
       "      <td>...</td>\n",
       "      <td>0.995312</td>\n",
       "      <td>1</td>\n",
       "      <td>6.607488</td>\n",
       "      <td>0.996127</td>\n",
       "      <td>0.994984</td>\n",
       "      <td>0.995965</td>\n",
       "      <td>0.995479</td>\n",
       "      <td>others</td>\n",
       "      <td>others</td>\n",
       "      <td>0.000772</td>\n",
       "      <td>1</td>\n",
       "      <td>1</td>\n",
       "      <td>1</td>\n",
       "      <td>0</td>\n",
       "      <td>0.705892</td>\n",
       "    </tr>\n",
       "    <tr>\n",
       "      <td>269370</td>\n",
       "      <td>5300</td>\n",
       "      <td>1600051043</td>\n",
       "      <td>2019.0</td>\n",
       "      <td>22</td>\n",
       "      <td>2019-08-30</td>\n",
       "      <td>1600051043</td>\n",
       "      <td>NaN</td>\n",
       "      <td>2019-08-30</td>\n",
       "      <td>2019-08-30</td>\n",
       "      <td>2019-09-18</td>\n",
       "      <td>CAD</td>\n",
       "      <td>534664</td>\n",
       "      <td>DA</td>\n",
       "      <td>9.0</td>\n",
       "      <td>5.0</td>\n",
       "      <td>...</td>\n",
       "      <td>0.995312</td>\n",
       "      <td>1</td>\n",
       "      <td>8.456224</td>\n",
       "      <td>0.996127</td>\n",
       "      <td>0.994984</td>\n",
       "      <td>0.994283</td>\n",
       "      <td>0.995479</td>\n",
       "      <td>others</td>\n",
       "      <td>others</td>\n",
       "      <td>0.000772</td>\n",
       "      <td>1</td>\n",
       "      <td>1</td>\n",
       "      <td>1</td>\n",
       "      <td>0</td>\n",
       "      <td>0.695191</td>\n",
       "    </tr>\n",
       "    <tr>\n",
       "      <td>269371</td>\n",
       "      <td>5300</td>\n",
       "      <td>1600051043</td>\n",
       "      <td>2019.0</td>\n",
       "      <td>23</td>\n",
       "      <td>2019-08-30</td>\n",
       "      <td>1600051043</td>\n",
       "      <td>NaN</td>\n",
       "      <td>2019-08-30</td>\n",
       "      <td>2019-08-30</td>\n",
       "      <td>2019-09-18</td>\n",
       "      <td>CAD</td>\n",
       "      <td>534664</td>\n",
       "      <td>DA</td>\n",
       "      <td>9.0</td>\n",
       "      <td>5.0</td>\n",
       "      <td>...</td>\n",
       "      <td>0.995312</td>\n",
       "      <td>1</td>\n",
       "      <td>6.305271</td>\n",
       "      <td>0.996127</td>\n",
       "      <td>0.994984</td>\n",
       "      <td>0.995965</td>\n",
       "      <td>0.995479</td>\n",
       "      <td>others</td>\n",
       "      <td>others</td>\n",
       "      <td>0.000772</td>\n",
       "      <td>1</td>\n",
       "      <td>1</td>\n",
       "      <td>1</td>\n",
       "      <td>0</td>\n",
       "      <td>0.709294</td>\n",
       "    </tr>\n",
       "    <tr>\n",
       "      <td>269372</td>\n",
       "      <td>5300</td>\n",
       "      <td>1600051043</td>\n",
       "      <td>2019.0</td>\n",
       "      <td>24</td>\n",
       "      <td>2019-08-30</td>\n",
       "      <td>1600051043</td>\n",
       "      <td>NaN</td>\n",
       "      <td>2019-08-30</td>\n",
       "      <td>2019-08-30</td>\n",
       "      <td>2019-09-18</td>\n",
       "      <td>CAD</td>\n",
       "      <td>534664</td>\n",
       "      <td>DA</td>\n",
       "      <td>9.0</td>\n",
       "      <td>5.0</td>\n",
       "      <td>...</td>\n",
       "      <td>0.995312</td>\n",
       "      <td>1</td>\n",
       "      <td>6.767700</td>\n",
       "      <td>0.996127</td>\n",
       "      <td>0.994984</td>\n",
       "      <td>0.995965</td>\n",
       "      <td>0.995479</td>\n",
       "      <td>others</td>\n",
       "      <td>others</td>\n",
       "      <td>0.000772</td>\n",
       "      <td>1</td>\n",
       "      <td>1</td>\n",
       "      <td>1</td>\n",
       "      <td>0</td>\n",
       "      <td>0.702376</td>\n",
       "    </tr>\n",
       "    <tr>\n",
       "      <td>269373</td>\n",
       "      <td>5300</td>\n",
       "      <td>1400253430</td>\n",
       "      <td>2019.0</td>\n",
       "      <td>1</td>\n",
       "      <td>2019-08-24</td>\n",
       "      <td>1400253430</td>\n",
       "      <td>NaN</td>\n",
       "      <td>2019-08-24</td>\n",
       "      <td>2019-08-24</td>\n",
       "      <td>2019-09-23</td>\n",
       "      <td>CAD</td>\n",
       "      <td>19000</td>\n",
       "      <td>DZ</td>\n",
       "      <td>9.0</td>\n",
       "      <td>7.0</td>\n",
       "      <td>...</td>\n",
       "      <td>0.995312</td>\n",
       "      <td>1</td>\n",
       "      <td>7.270814</td>\n",
       "      <td>0.996127</td>\n",
       "      <td>0.994984</td>\n",
       "      <td>0.994283</td>\n",
       "      <td>0.995479</td>\n",
       "      <td>others</td>\n",
       "      <td>others</td>\n",
       "      <td>0.000772</td>\n",
       "      <td>0</td>\n",
       "      <td>0</td>\n",
       "      <td>1</td>\n",
       "      <td>0</td>\n",
       "      <td>0.643508</td>\n",
       "    </tr>\n",
       "  </tbody>\n",
       "</table>\n",
       "<p>269374 rows × 80 columns</p>\n",
       "</div>"
      ],
      "text/plain": [
       "       COMPANY_CODE  DOCUMENT_NUMBER  FISCAL_YEAR  NO_LINE_ITEM_ACC  \\\n",
       "0              4600        108235837       2019.0                 1   \n",
       "1              4600        108235838       2019.0                 1   \n",
       "2              4600        108235839       2019.0                 1   \n",
       "3              4600        108235840       2019.0                 1   \n",
       "4              4600        108235841       2019.0                 1   \n",
       "...             ...              ...          ...               ...   \n",
       "269369         5300       1600051043       2019.0                21   \n",
       "269370         5300       1600051043       2019.0                22   \n",
       "269371         5300       1600051043       2019.0                23   \n",
       "269372         5300       1600051043       2019.0                24   \n",
       "269373         5300       1400253430       2019.0                 1   \n",
       "\n",
       "       CLEARING_DATE  CLEAR_DOC_NO ASSIGNMENT_ID POSTING_DATE DOCUMENT_DATE  \\\n",
       "0         2019-09-19     108235837           NaN   2019-09-19    2019-09-19   \n",
       "1         2019-09-19     108235838           NaN   2019-09-19    2019-09-19   \n",
       "2         2019-09-19     108235839           NaN   2019-09-19    2019-09-19   \n",
       "3         2019-09-19     108235840           NaN   2019-09-19    2019-09-19   \n",
       "4         2019-09-19     108235841           NaN   2019-09-19    2019-09-19   \n",
       "...              ...           ...           ...          ...           ...   \n",
       "269369    2019-08-30    1600051043           NaN   2019-08-30    2019-08-30   \n",
       "269370    2019-08-30    1600051043           NaN   2019-08-30    2019-08-30   \n",
       "269371    2019-08-30    1600051043           NaN   2019-08-30    2019-08-30   \n",
       "269372    2019-08-30    1600051043           NaN   2019-08-30    2019-08-30   \n",
       "269373    2019-08-24    1400253430           NaN   2019-08-24    2019-08-24   \n",
       "\n",
       "       DOCUMENT_CREATION_DATE AMOUNT_CURRENCY REFERENCE_DOC_NO DOCUMENT_TYPE  \\\n",
       "0                  2019-09-19             USD              NaN            AB   \n",
       "1                  2019-09-19             USD              NaN            AB   \n",
       "2                  2019-09-19             USD              NaN            AB   \n",
       "3                  2019-09-19             USD              NaN            AB   \n",
       "4                  2019-09-19             USD              NaN            AB   \n",
       "...                       ...             ...              ...           ...   \n",
       "269369             2019-09-18             CAD           534664            DA   \n",
       "269370             2019-09-18             CAD           534664            DA   \n",
       "269371             2019-09-18             CAD           534664            DA   \n",
       "269372             2019-09-18             CAD           534664            DA   \n",
       "269373             2019-09-23             CAD            19000            DZ   \n",
       "\n",
       "        FISCAL_PERIOD  POSTING_KEY  ...  name_category_mean_encoded  \\\n",
       "0                 9.0          7.0  ...                    0.995312   \n",
       "1                 9.0          7.0  ...                    0.998481   \n",
       "2                 9.0          7.0  ...                    0.998481   \n",
       "3                 9.0          7.0  ...                    0.995312   \n",
       "4                 9.0          7.0  ...                    0.998481   \n",
       "...               ...          ...  ...                         ...   \n",
       "269369            9.0          5.0  ...                    0.995312   \n",
       "269370            9.0          5.0  ...                    0.995312   \n",
       "269371            9.0          5.0  ...                    0.995312   \n",
       "269372            9.0          5.0  ...                    0.995312   \n",
       "269373            9.0          7.0  ...                    0.995312   \n",
       "\n",
       "        delivery_date_is_zero AMOUNT_DOC_CURR_Log  Quarter_mean_encoded  \\\n",
       "0                           1            6.971293              0.996127   \n",
       "1                           1            6.775480              0.996127   \n",
       "2                           1            5.543614              0.996127   \n",
       "3                           1            6.604905              0.996127   \n",
       "4                           1            6.608837              0.996127   \n",
       "...                       ...                 ...                   ...   \n",
       "269369                      1            6.607488              0.996127   \n",
       "269370                      1            8.456224              0.996127   \n",
       "269371                      1            6.305271              0.996127   \n",
       "269372                      1            6.767700              0.996127   \n",
       "269373                      1            7.270814              0.996127   \n",
       "\n",
       "       FISCAL_PERIOD_mean_encoded AMOUNT_TYPE_mean_encoded  \\\n",
       "0                        0.994984                 0.995965   \n",
       "1                        0.994984                 0.995965   \n",
       "2                        0.994984                 0.992665   \n",
       "3                        0.994984                 0.995965   \n",
       "4                        0.994984                 0.995965   \n",
       "...                           ...                      ...   \n",
       "269369                   0.994984                 0.995965   \n",
       "269370                   0.994984                 0.994283   \n",
       "269371                   0.994984                 0.995965   \n",
       "269372                   0.994984                 0.995965   \n",
       "269373                   0.994984                 0.994283   \n",
       "\n",
       "        Diff_Type_mean_encoded  CUSTOMER_NUMBER_grouped   temp1  \\\n",
       "0                     0.995479                   others  others   \n",
       "1                     0.995479                   others    food   \n",
       "2                     0.995479                   others    food   \n",
       "3                     0.995479                   others  others   \n",
       "4                     0.995479                   others    food   \n",
       "...                        ...                      ...     ...   \n",
       "269369                0.995479                   others  others   \n",
       "269370                0.995479                   others  others   \n",
       "269371                0.995479                   others  others   \n",
       "269372                0.995479                   others  others   \n",
       "269373                0.995479                   others  others   \n",
       "\n",
       "        CUSTOMER_NUMBER_grouped_name_category_history  Pred_Smote_50  \\\n",
       "0                                            0.000772              1   \n",
       "1                                            0.001341              1   \n",
       "2                                            0.001341              1   \n",
       "3                                            0.000772              1   \n",
       "4                                            0.001341              1   \n",
       "...                                               ...            ...   \n",
       "269369                                       0.000772              1   \n",
       "269370                                       0.000772              1   \n",
       "269371                                       0.000772              1   \n",
       "269372                                       0.000772              1   \n",
       "269373                                       0.000772              0   \n",
       "\n",
       "        Pred_Smote_90  Pred_50  Pred_90 Pred_Prob  \n",
       "0                   1        1        1  0.999487  \n",
       "1                   1        1        1  0.999515  \n",
       "2                   1        1        1  0.999497  \n",
       "3                   1        1        1  0.999487  \n",
       "4                   1        1        1  0.999487  \n",
       "...               ...      ...      ...       ...  \n",
       "269369              1        1        0  0.705892  \n",
       "269370              1        1        0  0.695191  \n",
       "269371              1        1        0  0.709294  \n",
       "269372              1        1        0  0.702376  \n",
       "269373              0        1        0  0.643508  \n",
       "\n",
       "[269374 rows x 80 columns]"
      ]
     },
     "execution_count": 6,
     "metadata": {},
     "output_type": "execute_result"
    }
   ],
   "source": [
    "# First, look at the DataFrame to get a sense of the data\n",
    "df"
   ]
  },
  {
   "cell_type": "code",
   "execution_count": 9,
   "metadata": {
    "collapsed": false
   },
   "outputs": [
    {
     "data": {
      "text/html": [
       "<div>\n",
       "<style scoped>\n",
       "    .dataframe tbody tr th:only-of-type {\n",
       "        vertical-align: middle;\n",
       "    }\n",
       "\n",
       "    .dataframe tbody tr th {\n",
       "        vertical-align: top;\n",
       "    }\n",
       "\n",
       "    .dataframe thead th {\n",
       "        text-align: right;\n",
       "    }\n",
       "</style>\n",
       "<table border=\"1\" class=\"dataframe\">\n",
       "  <thead>\n",
       "    <tr style=\"text-align: right;\">\n",
       "      <th></th>\n",
       "      <th>Pred_50_Match</th>\n",
       "      <th>Pred_SMOTE_50_Match</th>\n",
       "    </tr>\n",
       "  </thead>\n",
       "  <tbody>\n",
       "    <tr>\n",
       "      <td>count</td>\n",
       "      <td>269374.000000</td>\n",
       "      <td>269374.000000</td>\n",
       "    </tr>\n",
       "    <tr>\n",
       "      <td>mean</td>\n",
       "      <td>0.991046</td>\n",
       "      <td>0.968694</td>\n",
       "    </tr>\n",
       "    <tr>\n",
       "      <td>std</td>\n",
       "      <td>0.094202</td>\n",
       "      <td>0.174144</td>\n",
       "    </tr>\n",
       "    <tr>\n",
       "      <td>min</td>\n",
       "      <td>0.000000</td>\n",
       "      <td>0.000000</td>\n",
       "    </tr>\n",
       "    <tr>\n",
       "      <td>25%</td>\n",
       "      <td>1.000000</td>\n",
       "      <td>1.000000</td>\n",
       "    </tr>\n",
       "    <tr>\n",
       "      <td>50%</td>\n",
       "      <td>1.000000</td>\n",
       "      <td>1.000000</td>\n",
       "    </tr>\n",
       "    <tr>\n",
       "      <td>75%</td>\n",
       "      <td>1.000000</td>\n",
       "      <td>1.000000</td>\n",
       "    </tr>\n",
       "    <tr>\n",
       "      <td>max</td>\n",
       "      <td>1.000000</td>\n",
       "      <td>1.000000</td>\n",
       "    </tr>\n",
       "  </tbody>\n",
       "</table>\n",
       "</div>"
      ],
      "text/plain": [
       "       Pred_50_Match  Pred_SMOTE_50_Match\n",
       "count  269374.000000        269374.000000\n",
       "mean        0.991046             0.968694\n",
       "std         0.094202             0.174144\n",
       "min         0.000000             0.000000\n",
       "25%         1.000000             1.000000\n",
       "50%         1.000000             1.000000\n",
       "75%         1.000000             1.000000\n",
       "max         1.000000             1.000000"
      ]
     },
     "execution_count": 9,
     "metadata": {},
     "output_type": "execute_result"
    }
   ],
   "source": [
    "df[['Pred_50_Match','Pred_SMOTE_50_Match']].describe()"
   ]
  },
  {
   "cell_type": "code",
   "execution_count": 11,
   "metadata": {
    "collapsed": true
   },
   "outputs": [],
   "source": [
    "pred_50_mean=df.Pred_50_Match.mean()\n",
    "pred_50_std=df.Pred_50_Match.std()\n",
    "pred_SMOTE_50_mean=df.Pred_SMOTE_50_Match.mean()\n",
    "pred_SMOTE_50_std=df.Pred_SMOTE_50_Match.std()"
   ]
  },
  {
   "cell_type": "code",
   "execution_count": 14,
   "metadata": {
    "collapsed": false
   },
   "outputs": [
    {
     "data": {
      "text/plain": [
       "0.022351823115816738"
      ]
     },
     "execution_count": 14,
     "metadata": {},
     "output_type": "execute_result"
    }
   ],
   "source": [
    "pred_50_mean-pred_SMOTE_50_mean"
   ]
  },
  {
   "cell_type": "code",
   "execution_count": 16,
   "metadata": {
    "collapsed": false
   },
   "outputs": [
    {
     "data": {
      "text/plain": [
       "-0.079941880203597"
      ]
     },
     "execution_count": 16,
     "metadata": {},
     "output_type": "execute_result"
    }
   ],
   "source": [
    "pred_50_std-pred_SMOTE_50_std"
   ]
  },
  {
   "cell_type": "code",
   "execution_count": 22,
   "metadata": {
    "collapsed": false
   },
   "outputs": [
    {
     "data": {
      "text/plain": [
       "array([[<matplotlib.axes._subplots.AxesSubplot object at 0x00000147F125EA88>,\n",
       "        <matplotlib.axes._subplots.AxesSubplot object at 0x00000147F15EBC48>]],\n",
       "      dtype=object)"
      ]
     },
     "execution_count": 22,
     "metadata": {},
     "output_type": "execute_result"
    },
    {
     "data": {
      "image/png": "[encoded data removed]",
      "text/plain": [
       "<Figure size 432x288 with 2 Axes>"
      ]
     },
     "metadata": {
      "needs_background": "light"
     },
     "output_type": "display_data"
    }
   ],
   "source": [
    "df[['Pred_50_Match','Pred_SMOTE_50_Match']].hist(bins=2)"
   ]
  },
  {
   "cell_type": "code",
   "execution_count": null,
   "metadata": {
    "collapsed": true
   },
   "outputs": [],
   "source": []
  },
  {
   "cell_type": "code",
   "execution_count": 20,
   "metadata": {
    "collapsed": false
   },
   "outputs": [
    {
     "data": {
      "text/plain": [
       "<matplotlib.axes._subplots.AxesSubplot at 0x147f1812d88>"
      ]
     },
     "execution_count": 20,
     "metadata": {},
     "output_type": "execute_result"
    },
    {
     "data": {
      "image/png": "[encoded data removed]",
      "text/plain": [
       "<Figure size 432x288 with 1 Axes>"
      ]
     },
     "metadata": {
      "needs_background": "light"
     },
     "output_type": "display_data"
    }
   ],
   "source": []
  },
  {
   "cell_type": "code",
   "execution_count": 4,
   "metadata": {
    "collapsed": true
   },
   "outputs": [],
   "source": [
    "#n=20\n",
    "#napping"
   ]
  },
  {
   "cell_type": "markdown",
   "metadata": {
    "colab_type": "text",
    "id": "9djLvqwJNDos"
   },
   "source": []
  },
  {
   "cell_type": "code",
   "execution_count": 25,
   "metadata": {
    "collapsed": true
   },
   "outputs": [],
   "source": [
    "n1=n2=len(df.Pred_SMOTE_50_Match)"
   ]
  },
  {
   "cell_type": "code",
   "execution_count": 26,
   "metadata": {
    "collapsed": false
   },
   "outputs": [
    {
     "data": {
      "text/plain": [
       "269374"
      ]
     },
     "execution_count": 26,
     "metadata": {},
     "output_type": "execute_result"
    }
   ],
   "source": [
    "n1"
   ]
  },
  {
   "cell_type": "markdown",
   "metadata": {},
   "source": [
    "### Welch's T-Test"
   ]
  },
  {
   "cell_type": "code",
   "execution_count": null,
   "metadata": {
    "collapsed": true
   },
   "outputs": [],
   "source": [
    "pred_50_mean=df.Pred_50_Match.mean()\n",
    "pred_50_std=df.Pred_50_Match.std()\n",
    "pred_SMOTE_50_mean=df.Pred_SMOTE_50_Match.mean()\n",
    "pred_SMOTE_50_std=df.Pred_SMOTE_50_Match.std()"
   ]
  },
  {
   "cell_type": "markdown",
   "metadata": {},
   "source": [
    "#### Pooled Standard Error"
   ]
  },
  {
   "cell_type": "code",
   "execution_count": null,
   "metadata": {
    "collapsed": true
   },
   "outputs": [],
   "source": [
    "pooled_se = np.sqrt(((((n1-1)*nap_s_bedtime**2) + ((n2-1)*no_nap_s_bedtime**2))/(n1+n2-2))*((1/n1) + (1/n2)))"
   ]
  },
  {
   "cell_type": "code",
   "execution_count": 27,
   "metadata": {
    "colab": {},
    "colab_type": "code",
    "collapsed": true,
    "id": "KZUAaqFYNDpF"
   },
   "outputs": [],
   "source": [
    "pooled_se = np.sqrt(((((n1-1)*pred_50_std**2) + ((n2-1)*pred_50_std**2))/(n1+n2-2))*((1/n1) + (1/n2)))"
   ]
  },
  {
   "cell_type": "code",
   "execution_count": 28,
   "metadata": {
    "collapsed": false
   },
   "outputs": [
    {
     "data": {
      "text/plain": [
       "0.00025668214886101644"
      ]
     },
     "execution_count": 28,
     "metadata": {},
     "output_type": "execute_result"
    }
   ],
   "source": [
    "pooled_se"
   ]
  },
  {
   "cell_type": "markdown",
   "metadata": {
    "colab_type": "text",
    "id": "63-jF9fmNDpI"
   },
   "source": [
    "**Question**: What is the pooled s.e.$(\\bar{X}_{same} - \\bar{X}_{not\\ same})$?\n",
    "\n",
    "**Question**: Given our sample size of $n$, how many degrees of freedom ($df$) are there for the associated $t$ distribution?"
   ]
  },
  {
   "cell_type": "code",
   "execution_count": 29,
   "metadata": {
    "collapsed": true
   },
   "outputs": [],
   "source": [
    "dof=n1+n2-2"
   ]
  },
  {
   "cell_type": "code",
   "execution_count": 66,
   "metadata": {
    "collapsed": false
   },
   "outputs": [
    {
     "data": {
      "text/plain": [
       "538746"
      ]
     },
     "execution_count": 66,
     "metadata": {},
     "output_type": "execute_result"
    }
   ],
   "source": [
    "dof"
   ]
  },
  {
   "cell_type": "markdown",
   "metadata": {
    "colab_type": "text",
    "id": "vpGx3jGXNDpJ"
   },
   "source": [
    "**Question**: What is the $t$-test statistic for the hypothesis test?"
   ]
  },
  {
   "cell_type": "code",
   "execution_count": 18,
   "metadata": {
    "collapsed": true
   },
   "outputs": [],
   "source": [
    "t_test_statistic=(nap_mean_bedtime-no_nap_mean_bedtime-0)/pooled_se"
   ]
  },
  {
   "cell_type": "code",
   "execution_count": 30,
   "metadata": {
    "collapsed": true
   },
   "outputs": [],
   "source": [
    "t_test_statistic=(pred_50_mean-pred_SMOTE_50_mean-0)/pooled_se"
   ]
  },
  {
   "cell_type": "code",
   "execution_count": 31,
   "metadata": {
    "collapsed": false
   },
   "outputs": [
    {
     "data": {
      "text/plain": [
       "87.07977245398314"
      ]
     },
     "execution_count": 31,
     "metadata": {},
     "output_type": "execute_result"
    }
   ],
   "source": [
    "t_test_statistic"
   ]
  },
  {
   "cell_type": "markdown",
   "metadata": {
    "colab_type": "text",
    "id": "YSys0xG3NDpK"
   },
   "source": [
    "To find the p-value, we can use the function:\n",
    "```\n",
    "t.cdf(y, df)\n",
    "```\n",
    "Which for $X \\sim t(df)$ returns $P(X \\leq y)$.\n",
    "\n",
    "Because of the symmetry of the $t$ distrubution, we have that \n",
    "```\n",
    "1-t.cdf(y, df)\n",
    "```\n",
    "returns $P(X > y)$\n",
    "\n",
    "This function, t.cdf(y, df), will give you the same value as finding the one-tailed probability of y on a t-table with the specified degrees of freedom."
   ]
  },
  {
   "cell_type": "markdown",
   "metadata": {
    "colab_type": "text",
    "id": "iCR_7GeaNDpL"
   },
   "source": [
    "Using the function t.cdf and your $t$-test statistics, find the p-value."
   ]
  },
  {
   "cell_type": "code",
   "execution_count": 32,
   "metadata": {
    "colab": {},
    "colab_type": "code",
    "collapsed": true,
    "id": "onJwGMApNDpM"
   },
   "outputs": [],
   "source": [
    "p_val=1-t.cdf(t_test_statistic,dof)"
   ]
  },
  {
   "cell_type": "code",
   "execution_count": 33,
   "metadata": {
    "collapsed": false
   },
   "outputs": [
    {
     "data": {
      "text/plain": [
       "True"
      ]
     },
     "execution_count": 33,
     "metadata": {},
     "output_type": "execute_result"
    }
   ],
   "source": [
    "2*p_val<.025"
   ]
  },
  {
   "cell_type": "code",
   "execution_count": 39,
   "metadata": {
    "collapsed": false
   },
   "outputs": [
    {
     "data": {
      "text/plain": [
       "0.0"
      ]
     },
     "execution_count": 39,
     "metadata": {},
     "output_type": "execute_result"
    }
   ],
   "source": [
    "p_val"
   ]
  },
  {
   "cell_type": "code",
   "execution_count": 34,
   "metadata": {
    "collapsed": false
   },
   "outputs": [
    {
     "data": {
      "text/plain": [
       "True"
      ]
     },
     "execution_count": 34,
     "metadata": {},
     "output_type": "execute_result"
    }
   ],
   "source": [
    "p_val<.025"
   ]
  },
  {
   "cell_type": "markdown",
   "metadata": {
    "colab_type": "text",
    "id": "KAasK4C6NDpO"
   },
   "source": [
    "**Question**: What is the p-value to the nearest hundredth?"
   ]
  },
  {
   "cell_type": "markdown",
   "metadata": {
    "colab_type": "text",
    "id": "ObOjGXrTNDpP"
   },
   "source": [
    "Calculate the $t$ test statistics and corresponding p-value using the scipy function scipy.stats.ttest_ind(a, b, equal_var=True) and check with your answer. \n",
    "\n",
    "Does scipy.stats.ttest_ind return values for a one-sided or two-sided test? Can you think of a way to recover the results you got using 1-t.cdf from the p-value given by scipy.stats.ttest_ind?"
   ]
  },
  {
   "cell_type": "code",
   "execution_count": 35,
   "metadata": {
    "colab": {},
    "colab_type": "code",
    "collapsed": true,
    "id": "mOdFSpXoNDpQ"
   },
   "outputs": [],
   "source": [
    "from scipy import stats"
   ]
  },
  {
   "cell_type": "code",
   "execution_count": 43,
   "metadata": {
    "collapsed": false
   },
   "outputs": [
    {
     "data": {
      "text/plain": [
       "Ttest_indResult(statistic=58.593332827946725, pvalue=0.0)"
      ]
     },
     "execution_count": 43,
     "metadata": {},
     "output_type": "execute_result"
    }
   ],
   "source": [
    "stats.ttest_ind(df.Pred_50_Match,df.Pred_SMOTE_50_Match,equal_var=False)"
   ]
  },
  {
   "cell_type": "code",
   "execution_count": 42,
   "metadata": {
    "collapsed": false
   },
   "outputs": [
    {
     "data": {
      "text/plain": [
       "LeveneResult(statistic=3433.1786518865188, pvalue=0.0)"
      ]
     },
     "execution_count": 42,
     "metadata": {},
     "output_type": "execute_result"
    }
   ],
   "source": [
    "stats.levene(df.Pred_50_Match,df.Pred_SMOTE_50_Match)"
   ]
  }
 ],
 "metadata": {
  "colab": {
   "collapsed_sections": [],
   "name": "Hypothesis testing assessment.ipynb",
   "provenance": [],
   "version": "0.3.2"
  },
  "kernelspec": {
   "display_name": "Python 3",
   "language": "python",
   "name": "python3"
  },
  "language_info": {
   "codemirror_mode": {
    "name": "ipython",
    "version": 3
   },
   "file_extension": ".py",
   "mimetype": "text/x-python",
   "name": "python",
   "nbconvert_exporter": "python",
   "pygments_lexer": "ipython3",
   "version": "3.6.6"
  }
 },
 "nbformat": 4,
 "nbformat_minor": 1
}
